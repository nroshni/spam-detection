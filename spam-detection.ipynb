{
 "cells": [
  {
   "cell_type": "code",
   "execution_count": 1,
   "metadata": {},
   "outputs": [],
   "source": [
    "import os\n",
    "import numpy as np\n",
    "import pandas as pd"
   ]
  },
  {
   "cell_type": "code",
   "execution_count": 2,
   "metadata": {},
   "outputs": [
    {
     "name": "stdout",
     "output_type": "stream",
     "text": [
      "   Label                                                Msg\n",
      "0      0  Go until jurong point, crazy.. Available only ...\n",
      "1      0                      Ok lar... Joking wif u oni...\n",
      "2      1  Free entry in 2 a wkly comp to win FA Cup fina...\n",
      "3      0  U dun say so early hor... U c already then say...\n",
      "4      0  Nah I don't think he goes to usf, he lives aro...\n"
     ]
    }
   ],
   "source": [
    "data = pd.read_csv('spam.csv', encoding=\"ISO-8859-1\")\n",
    "data = data[['v1', 'v2']]\n",
    "data.columns = ['Label', 'Msg']\n",
    "\n",
    "data.Label = data.Label.map({'ham': 0, 'spam': 1})\n",
    "print(data.head())"
   ]
  },
  {
   "cell_type": "code",
   "execution_count": 3,
   "metadata": {},
   "outputs": [],
   "source": [
    "from nltk.tokenize import sent_tokenize, word_tokenize\n",
    "from nltk.corpus import stopwords\n",
    "import string\n",
    "\n",
    "punctuations = string.punctuation\n",
    "stopwords = set(stopwords.words('english'))\n",
    "\n",
    "def preprocess_text(text):\n",
    "    \n",
    "    # Normalize text\n",
    "    text = text.lower()\n",
    "    \n",
    "    # Strip non-ascii accents\n",
    "    text = text.encode('ascii', 'ignore').decode('ascii') \n",
    "    \n",
    "    # Retain specific words that could characterize spam msgs\n",
    "    for word in [\"t&c's\", 't&cs', 't&c']:\n",
    "        if word in text:\n",
    "            text = text.replace(word, 'termsandconditions')\n",
    "    \n",
    "    def remove_punctuations(word):\n",
    "        if (len(word)==2 or len(word)==3) and \\\n",
    "                all([ch in punctuations for ch in word]) and \\\n",
    "                not all([ch == word[0] for ch in word]):\n",
    "            # Cond1 - Ensures smileys are only 2/3 char long\n",
    "            # Cond2 - All chars of word are punctuations\n",
    "            # Cond3 - All punctuations are not the same (Ex. || , ... , !! , etc)\n",
    "            return \"smiley\"\n",
    "        return ''.join([ch for ch in word if ch not in punctuations])\n",
    "    \n",
    "    # Tokenize & eliminate punctuations\n",
    "    tokens = [remove_punctuations(word) for sent in sent_tokenize(text) for word in sent.split()]\n",
    "    \n",
    "    # Remove numeric tokens\n",
    "    tokens = [token for token in tokens if token and not token.isdigit()]\n",
    "    \n",
    "    # Remove alphanumeric tokens\n",
    "    new_tokens = []\n",
    "    for token in tokens:\n",
    "        if not (token.isalnum() and not (token.isalpha() or token.isdigit())):\n",
    "            new_tokens.append(token)\n",
    "        else:\n",
    "            new_tokens.append('alphanumeric')\n",
    "    \n",
    "    # Remove stopwords\n",
    "    # tokens = [token for token in tokens if token not in stopwords]\n",
    "    \n",
    "    return ' '.join(new_tokens)\n",
    "    \n",
    "    "
   ]
  },
  {
   "cell_type": "code",
   "execution_count": 4,
   "metadata": {},
   "outputs": [],
   "source": [
    "data['Processed_Msg'] = data['Msg'].apply(preprocess_text)\n",
    "data['Msg_len'] = data['Msg'].apply(len)"
   ]
  },
  {
   "cell_type": "code",
   "execution_count": 5,
   "metadata": {},
   "outputs": [
    {
     "data": {
      "text/html": [
       "<div>\n",
       "<style scoped>\n",
       "    .dataframe tbody tr th:only-of-type {\n",
       "        vertical-align: middle;\n",
       "    }\n",
       "\n",
       "    .dataframe tbody tr th {\n",
       "        vertical-align: top;\n",
       "    }\n",
       "\n",
       "    .dataframe thead th {\n",
       "        text-align: right;\n",
       "    }\n",
       "</style>\n",
       "<table border=\"1\" class=\"dataframe\">\n",
       "  <thead>\n",
       "    <tr style=\"text-align: right;\">\n",
       "      <th></th>\n",
       "      <th>Label</th>\n",
       "      <th>Msg</th>\n",
       "      <th>Processed_Msg</th>\n",
       "      <th>Msg_len</th>\n",
       "    </tr>\n",
       "  </thead>\n",
       "  <tbody>\n",
       "    <tr>\n",
       "      <th>1611</th>\n",
       "      <td>0</td>\n",
       "      <td>645</td>\n",
       "      <td></td>\n",
       "      <td>3</td>\n",
       "    </tr>\n",
       "  </tbody>\n",
       "</table>\n",
       "</div>"
      ],
      "text/plain": [
       "      Label  Msg Processed_Msg  Msg_len\n",
       "1611      0  645                      3"
      ]
     },
     "execution_count": 5,
     "metadata": {},
     "output_type": "execute_result"
    }
   ],
   "source": [
    "data[data.Processed_Msg.apply(len) == 0]"
   ]
  },
  {
   "cell_type": "code",
   "execution_count": 6,
   "metadata": {},
   "outputs": [
    {
     "data": {
      "text/plain": [
       "0    4825\n",
       "1     747\n",
       "Name: Label, dtype: int64"
      ]
     },
     "execution_count": 6,
     "metadata": {},
     "output_type": "execute_result"
    }
   ],
   "source": [
    "## Dictribution of class labels\n",
    "data['Label'].value_counts()"
   ]
  },
  {
   "cell_type": "markdown",
   "metadata": {},
   "source": [
    "##### Import necessary sklearn libraries"
   ]
  },
  {
   "cell_type": "code",
   "execution_count": 7,
   "metadata": {},
   "outputs": [],
   "source": [
    "from sklearn.model_selection import train_test_split\n",
    "from sklearn.feature_extraction.text import TfidfVectorizer, CountVectorizer\n",
    "from sklearn.naive_bayes import MultinomialNB\n",
    "from sklearn.svm import SVC"
   ]
  },
  {
   "cell_type": "code",
   "execution_count": 8,
   "metadata": {},
   "outputs": [],
   "source": [
    "from sklearn.metrics import accuracy_score, classification_report, confusion_matrix\n",
    "\n",
    "def print_scores(y_test, y_pred):\n",
    "    print(f'Accuracy : {accuracy_score(y_test, y_pred)}')\n",
    "    print(f'\\nclassification_report :\\n {classification_report(y_test, y_pred)}')\n",
    "    print(f'\\nconfusion_matrix :\\n {confusion_matrix(y_test, y_pred)}')"
   ]
  },
  {
   "cell_type": "code",
   "execution_count": 9,
   "metadata": {},
   "outputs": [],
   "source": [
    "X = data.Processed_Msg\n",
    "y = data.Label\n",
    "X_train, X_test, y_train, y_test = train_test_split(X, y, test_size=0.2, random_state=10)"
   ]
  },
  {
   "cell_type": "markdown",
   "metadata": {},
   "source": [
    "#### Using Tfidf Vectors"
   ]
  },
  {
   "cell_type": "code",
   "execution_count": 10,
   "metadata": {},
   "outputs": [],
   "source": [
    "tfv = TfidfVectorizer()\n",
    "train_vectors = tfv.fit_transform(X_train)\n",
    "test_vectors = tfv.transform(X_test)"
   ]
  },
  {
   "cell_type": "code",
   "execution_count": 11,
   "metadata": {
    "scrolled": true
   },
   "outputs": [
    {
     "name": "stdout",
     "output_type": "stream",
     "text": [
      "Accuracy : 0.9820627802690582\n",
      "\n",
      "classification_report :\n",
      "               precision    recall  f1-score   support\n",
      "\n",
      "           0       0.98      1.00      0.99       965\n",
      "           1       0.99      0.88      0.93       150\n",
      "\n",
      "    accuracy                           0.98      1115\n",
      "   macro avg       0.98      0.94      0.96      1115\n",
      "weighted avg       0.98      0.98      0.98      1115\n",
      "\n",
      "\n",
      "confusion_matrix :\n",
      " [[963   2]\n",
      " [ 18 132]]\n"
     ]
    }
   ],
   "source": [
    "# Support Vector classifier \n",
    "svc = SVC()\n",
    "svc.fit(train_vectors, y_train)\n",
    "y_pred = svc.predict(test_vectors)\n",
    "print_scores(y_test, y_pred)"
   ]
  },
  {
   "cell_type": "code",
   "execution_count": 12,
   "metadata": {},
   "outputs": [
    {
     "name": "stdout",
     "output_type": "stream",
     "text": [
      "Accuracy : 0.9748878923766816\n",
      "\n",
      "classification_report :\n",
      "               precision    recall  f1-score   support\n",
      "\n",
      "           0       0.97      1.00      0.99       965\n",
      "           1       1.00      0.81      0.90       150\n",
      "\n",
      "    accuracy                           0.97      1115\n",
      "   macro avg       0.99      0.91      0.94      1115\n",
      "weighted avg       0.98      0.97      0.97      1115\n",
      "\n",
      "\n",
      "confusion_matrix :\n",
      " [[965   0]\n",
      " [ 28 122]]\n"
     ]
    }
   ],
   "source": [
    "# Random Forest Classifier\n",
    "from sklearn.ensemble import RandomForestClassifier\n",
    "\n",
    "rfc = RandomForestClassifier()\n",
    "rfc.fit(train_vectors, y_train)\n",
    "y_pred = rfc.predict(test_vectors)\n",
    "print_scores(y_test, y_pred)"
   ]
  },
  {
   "cell_type": "markdown",
   "metadata": {},
   "source": [
    "#### Using Count Vectors"
   ]
  },
  {
   "cell_type": "code",
   "execution_count": 13,
   "metadata": {},
   "outputs": [],
   "source": [
    "cv = CountVectorizer(decode_error='ignore', stop_words='english', ngram_range=(1,2))\n",
    "train_vectors = cv.fit_transform(X_train)\n",
    "test_vectors = cv.transform(X_test)"
   ]
  },
  {
   "cell_type": "code",
   "execution_count": 14,
   "metadata": {},
   "outputs": [
    {
     "name": "stdout",
     "output_type": "stream",
     "text": [
      "Accuracy : 0.9901345291479821\n",
      "\n",
      "classification_report :\n",
      "               precision    recall  f1-score   support\n",
      "\n",
      "           0       0.99      0.99      0.99       965\n",
      "           1       0.97      0.96      0.96       150\n",
      "\n",
      "    accuracy                           0.99      1115\n",
      "   macro avg       0.98      0.98      0.98      1115\n",
      "weighted avg       0.99      0.99      0.99      1115\n",
      "\n",
      "\n",
      "confusion_matrix :\n",
      " [[960   5]\n",
      " [  6 144]]\n"
     ]
    }
   ],
   "source": [
    "mnb_clf = MultinomialNB()\n",
    "mnb_clf.fit(train_vectors, y_train)\n",
    "y_pred = mnb_clf.predict(test_vectors)\n",
    "print_scores(y_test, y_pred)"
   ]
  }
 ],
 "metadata": {
  "kernelspec": {
   "display_name": "Python 3",
   "language": "python",
   "name": "python3"
  },
  "language_info": {
   "codemirror_mode": {
    "name": "ipython",
    "version": 3
   },
   "file_extension": ".py",
   "mimetype": "text/x-python",
   "name": "python",
   "nbconvert_exporter": "python",
   "pygments_lexer": "ipython3",
   "version": "3.7.4"
  }
 },
 "nbformat": 4,
 "nbformat_minor": 2
}
