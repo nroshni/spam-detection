{
 "cells": [
  {
   "cell_type": "code",
   "execution_count": 306,
   "metadata": {},
   "outputs": [],
   "source": [
    "import os\n",
    "import numpy as np\n",
    "import pandas as pd"
   ]
  },
  {
   "cell_type": "code",
   "execution_count": 373,
   "metadata": {
    "collapsed": true
   },
   "outputs": [
    {
     "name": "stdout",
     "output_type": "stream",
     "text": [
      "    Label                                                Msg\n",
      "0       0  Go until jurong point, crazy.. Available only ...\n",
      "1       0                      Ok lar... Joking wif u oni...\n",
      "2       1  Free entry in 2 a wkly comp to win FA Cup fina...\n",
      "3       0  U dun say so early hor... U c already then say...\n",
      "4       0  Nah I don't think he goes to usf, he lives aro...\n",
      "5       1  FreeMsg Hey there darling it's been 3 week's n...\n",
      "6       0  Even my brother is not like to speak with me. ...\n",
      "7       0  As per your request 'Melle Melle (Oru Minnamin...\n",
      "8       1  WINNER!! As a valued network customer you have...\n",
      "9       1  Had your mobile 11 months or more? U R entitle...\n",
      "10      0  I'm gonna be home soon and i don't want to tal...\n",
      "11      1  SIX chances to win CASH! From 100 to 20,000 po...\n",
      "12      1  URGENT! You have won a 1 week FREE membership ...\n",
      "13      0  I've been searching for the right words to tha...\n",
      "14      0                I HAVE A DATE ON SUNDAY WITH WILL!!\n",
      "15      1  XXXMobileMovieClub: To use your credit, click ...\n",
      "16      0                         Oh k...i'm watching here:)\n",
      "17      0  Eh u remember how 2 spell his name... Yes i di...\n",
      "18      0  Fine if thatåÕs the way u feel. ThatåÕs the wa...\n",
      "19      1  England v Macedonia - dont miss the goals/team...\n"
     ]
    }
   ],
   "source": [
    "data = pd.read_csv('spam.csv', encoding=\"ISO-8859-1\")\n",
    "data = data[['v1', 'v2']]\n",
    "data.columns = ['Label', 'Msg']\n",
    "\n",
    "data.Label = data.Label.map({'ham': 0, 'spam': 1})\n",
    "print(data.head(20))"
   ]
  },
  {
   "cell_type": "code",
   "execution_count": 407,
   "metadata": {},
   "outputs": [],
   "source": [
    "from nltk.tokenize import sent_tokenize, word_tokenize\n",
    "from nltk.corpus import stopwords\n",
    "import string\n",
    "\n",
    "punctuations = string.punctuation\n",
    "stopwords = set(stopwords.words('english'))\n",
    "\n",
    "def preprocess_text(text):\n",
    "    \n",
    "    # Normalize text\n",
    "    text = text.lower()\n",
    "    \n",
    "    # Strip non-ascii accents\n",
    "    text = text.encode('ascii', 'ignore').decode('ascii') \n",
    "    \n",
    "    # Retain specific words that could characterize spam msgs\n",
    "    for word in [\"t&c's\", 't&cs', 't&c']:\n",
    "        if word in text:\n",
    "            text = text.replace(word, 'termsandconditions')\n",
    "    \n",
    "    def remove_punctuations(word):\n",
    "        if (len(word)==2 or len(word)==3) and \\\n",
    "                all([ch in punctuations for ch in word]) and \\\n",
    "                not all([ch == word[0] for ch in word]):\n",
    "            # Cond1 - Ensures smileys are only 2/3 char long\n",
    "            # Cond2 - All chars of word are punctuations\n",
    "            # Cond3 - All punctuations are not the same (Ex. || , ... , !! , etc)\n",
    "            return \"SMILEY\"\n",
    "        return ''.join([ch for ch in word if ch not in punctuations])\n",
    "    \n",
    "    # Tokenize & eliminate punctuations\n",
    "    tokens = [remove_punctuations(word) for sent in sent_tokenize(text) for word in sent.split()]  # word_tokenize(sent)]\n",
    "    \n",
    "    # Remove numeric tokens\n",
    "    tokens = [token for token in tokens if token and not token.isdigit()]  # len(token) >=2] # and (token.isalpha() or token.isdigit())]\n",
    "    \n",
    "    # Remove alphanumeric tokens\n",
    "    # tokens = [token for token in tokens if not (token.isalnum() and not (token.isalpha() or token.isdigit()))]\n",
    "    new_tokens = []\n",
    "    for token in tokens:\n",
    "        if not (token.isalnum() and not (token.isalpha() or token.isdigit())):\n",
    "            new_tokens.append(token)\n",
    "        else:\n",
    "            new_tokens.append('alphanumeric')\n",
    "    \n",
    "    \n",
    "    # Remove stopwords\n",
    "    # tokens = [token for token in tokens if token not in stopwords]\n",
    "    \n",
    "    return ' '.join(new_tokens)\n",
    "    \n",
    "    "
   ]
  },
  {
   "cell_type": "code",
   "execution_count": 408,
   "metadata": {},
   "outputs": [],
   "source": [
    "data['Processed_Msg'] = data['Msg'].apply(preprocess_text)\n",
    "data['Msg_len'] = data['Msg'].apply(len)"
   ]
  },
  {
   "cell_type": "code",
   "execution_count": 378,
   "metadata": {},
   "outputs": [],
   "source": [
    "# from sklearn.preprocessing import MinMaxScaler\n",
    "# data['Msg_len'] = MinMaxScaler().fit_transform(data['Msg_len'].values.reshape(-1, 1))\n",
    "# data"
   ]
  },
  {
   "cell_type": "code",
   "execution_count": 379,
   "metadata": {},
   "outputs": [],
   "source": [
    "# data.Processed_Msg.head(20).values"
   ]
  },
  {
   "cell_type": "code",
   "execution_count": 380,
   "metadata": {},
   "outputs": [
    {
     "data": {
      "text/html": [
       "<div>\n",
       "<style scoped>\n",
       "    .dataframe tbody tr th:only-of-type {\n",
       "        vertical-align: middle;\n",
       "    }\n",
       "\n",
       "    .dataframe tbody tr th {\n",
       "        vertical-align: top;\n",
       "    }\n",
       "\n",
       "    .dataframe thead th {\n",
       "        text-align: right;\n",
       "    }\n",
       "</style>\n",
       "<table border=\"1\" class=\"dataframe\">\n",
       "  <thead>\n",
       "    <tr style=\"text-align: right;\">\n",
       "      <th></th>\n",
       "      <th>Label</th>\n",
       "      <th>Msg</th>\n",
       "      <th>Processed_Msg</th>\n",
       "      <th>Msg_len</th>\n",
       "    </tr>\n",
       "  </thead>\n",
       "  <tbody>\n",
       "    <tr>\n",
       "      <th>1611</th>\n",
       "      <td>0</td>\n",
       "      <td>645</td>\n",
       "      <td></td>\n",
       "      <td>3</td>\n",
       "    </tr>\n",
       "  </tbody>\n",
       "</table>\n",
       "</div>"
      ],
      "text/plain": [
       "      Label  Msg Processed_Msg  Msg_len\n",
       "1611      0  645                      3"
      ]
     },
     "execution_count": 380,
     "metadata": {},
     "output_type": "execute_result"
    }
   ],
   "source": [
    "data[data.Processed_Msg.apply(len) == 0]"
   ]
  },
  {
   "cell_type": "code",
   "execution_count": 381,
   "metadata": {},
   "outputs": [
    {
     "data": {
      "text/plain": [
       "0    4825\n",
       "1     747\n",
       "Name: Label, dtype: int64"
      ]
     },
     "execution_count": 381,
     "metadata": {},
     "output_type": "execute_result"
    }
   ],
   "source": [
    "## Dictribution of class labels\n",
    "data['Label'].value_counts()"
   ]
  },
  {
   "cell_type": "markdown",
   "metadata": {},
   "source": [
    "##### Import necessary sklearn libraries"
   ]
  },
  {
   "cell_type": "code",
   "execution_count": 409,
   "metadata": {},
   "outputs": [],
   "source": [
    "from sklearn.model_selection import train_test_split\n",
    "from sklearn.feature_extraction.text import TfidfVectorizer, CountVectorizer\n",
    "from sklearn.naive_bayes import MultinomialNB\n",
    "from sklearn.svm import SVC"
   ]
  },
  {
   "cell_type": "code",
   "execution_count": 410,
   "metadata": {},
   "outputs": [],
   "source": [
    "from sklearn.metrics import precision_score, recall_score, f1_score\n",
    "from sklearn.metrics import accuracy_score, adjusted_mutual_info_score\n",
    "from sklearn.metrics import classification_report, precision_recall_fscore_support\n",
    "from sklearn.metrics import roc_auc_score, confusion_matrix\n",
    "\n",
    "def print_scores(y_test, y_pred):\n",
    "#     print(f'Precision : {precision_score(y_test, y_pred)}')\n",
    "#     print(f'Recall : {recall_score(y_test, y_pred)}')\n",
    "#     print(f'f1_score : {f1_score(y_test, y_pred)}')\n",
    "    print(f'Accuracy : {accuracy_score(y_test, y_pred)}')\n",
    "#     print(f'adjusted_mutual_info_score : {adjusted_mutual_info_score(y_test, y_pred)}')\n",
    "#     print(f'roc_auc_score : {roc_auc_score(y_test, y_pred)}')\n",
    "    print(f'\\nclassification_report :\\n {classification_report(y_test, y_pred)}')\n",
    "    print(f'\\nconfusion_matrix :\\n {confusion_matrix(y_test, y_pred)}')"
   ]
  },
  {
   "cell_type": "code",
   "execution_count": 411,
   "metadata": {},
   "outputs": [],
   "source": [
    "X = data.Processed_Msg\n",
    "# X = data.Msg\n",
    "y = data.Label\n",
    "X_train, X_test, y_train, y_test = train_test_split(X, y, test_size=0.2, random_state=10)"
   ]
  },
  {
   "cell_type": "code",
   "execution_count": 393,
   "metadata": {},
   "outputs": [],
   "source": [
    "# X = data[['Processed_Msg', 'Msg_len']]\n",
    "# y = data.Label\n",
    "# X_train, X_test, y_train, y_test = train_test_split(X, y, test_size=0.2, random_state=10)"
   ]
  },
  {
   "cell_type": "markdown",
   "metadata": {},
   "source": [
    "#### Using Tfidf Vectors"
   ]
  },
  {
   "cell_type": "code",
   "execution_count": 412,
   "metadata": {},
   "outputs": [],
   "source": [
    "tfv = TfidfVectorizer()\n",
    "train_vectors = tfv.fit_transform(X_train)\n",
    "test_vectors = tfv.transform(X_test)"
   ]
  },
  {
   "cell_type": "code",
   "execution_count": 395,
   "metadata": {},
   "outputs": [],
   "source": [
    "# tfv = TfidfVectorizer()\n",
    "# train_vectors = tfv.fit_transform(X_train['Processed_Msg'])\n",
    "# test_vectors = tfv.transform(X_test['Processed_Msg'])\n",
    "\n",
    "# # Feature Stacking for train_vectors\n",
    "# msg_len = X_train['Msg_len'].to_numpy()\n",
    "# msg_len = msg_len.reshape((msg_len.shape[0],1))\n",
    "\n",
    "# train_vectors = np.hstack((train_vectors.toarray(), msg_len))\n",
    "\n",
    "# # Feature Stacking for test_vectors\n",
    "# msg_len = X_test['Msg_len'].to_numpy()\n",
    "# msg_len = msg_len.reshape((msg_len.shape[0],1))\n",
    "\n",
    "# test_vectors = np.hstack((test_vectors.toarray(), msg_len))"
   ]
  },
  {
   "cell_type": "code",
   "execution_count": 413,
   "metadata": {
    "scrolled": true
   },
   "outputs": [
    {
     "name": "stdout",
     "output_type": "stream",
     "text": [
      "Accuracy : 0.9820627802690582\n",
      "\n",
      "classification_report :\n",
      "               precision    recall  f1-score   support\n",
      "\n",
      "           0       0.98      1.00      0.99       965\n",
      "           1       0.99      0.88      0.93       150\n",
      "\n",
      "    accuracy                           0.98      1115\n",
      "   macro avg       0.98      0.94      0.96      1115\n",
      "weighted avg       0.98      0.98      0.98      1115\n",
      "\n",
      "\n",
      "confusion_matrix :\n",
      " [[963   2]\n",
      " [ 18 132]]\n"
     ]
    }
   ],
   "source": [
    "# Support Vector classifier \n",
    "svc = SVC()\n",
    "svc.fit(train_vectors, y_train)\n",
    "y_pred = svc.predict(test_vectors)\n",
    "print_scores(y_test, y_pred)"
   ]
  },
  {
   "cell_type": "code",
   "execution_count": 420,
   "metadata": {},
   "outputs": [
    {
     "name": "stdout",
     "output_type": "stream",
     "text": [
      "Accuracy : 0.9687724335965542\n",
      "\n",
      "classification_report :\n",
      "               precision    recall  f1-score   support\n",
      "\n",
      "           0       0.97      0.99      0.98      2413\n",
      "           1       0.95      0.81      0.87       373\n",
      "\n",
      "    accuracy                           0.97      2786\n",
      "   macro avg       0.96      0.90      0.93      2786\n",
      "weighted avg       0.97      0.97      0.97      2786\n",
      "\n",
      "\n",
      "confusion_matrix :\n",
      " [[2397   16]\n",
      " [  71  302]]\n"
     ]
    }
   ],
   "source": [
    "# Random Forest Classifier\n",
    "from sklearn.ensemble import RandomForestClassifier\n",
    "\n",
    "rfc = RandomForestClassifier()\n",
    "rfc.fit(train_vectors, y_train)\n",
    "y_pred = rfc.predict(test_vectors)\n",
    "print_scores(y_test, y_pred)"
   ]
  },
  {
   "cell_type": "markdown",
   "metadata": {},
   "source": [
    "#### Using Count Vectors"
   ]
  },
  {
   "cell_type": "code",
   "execution_count": 414,
   "metadata": {},
   "outputs": [],
   "source": [
    "cv = CountVectorizer(decode_error='ignore', stop_words='english', ngram_range=(1,2))\n",
    "train_vectors = cv.fit_transform(X_train)\n",
    "test_vectors = cv.transform(X_test)"
   ]
  },
  {
   "cell_type": "code",
   "execution_count": 398,
   "metadata": {},
   "outputs": [],
   "source": [
    "# cv = CountVectorizer(decode_error='ignore', stop_words='english', ngram_range=(1,2))\n",
    "# train_vectors = cv.fit_transform(X_train['Processed_Msg'])\n",
    "# test_vectors = cv.transform(X_test['Processed_Msg'])\n",
    "\n",
    "# # Feature Stacking for train_vectors\n",
    "# msg_len = X_train['Msg_len'].to_numpy()\n",
    "# msg_len = msg_len.reshape((msg_len.shape[0],1))\n",
    "\n",
    "# train_vectors = np.hstack((train_vectors.toarray(), msg_len))\n",
    "\n",
    "# # Feature Stacking for test_vectors\n",
    "# msg_len = X_test['Msg_len'].to_numpy()\n",
    "# msg_len = msg_len.reshape((msg_len.shape[0],1))\n",
    "\n",
    "# test_vectors = np.hstack((test_vectors.toarray(), msg_len))"
   ]
  },
  {
   "cell_type": "code",
   "execution_count": 399,
   "metadata": {},
   "outputs": [],
   "source": [
    "#cv.get_feature_names()[:20], cv.get_feature_names()[-20:]"
   ]
  },
  {
   "cell_type": "code",
   "execution_count": 415,
   "metadata": {},
   "outputs": [
    {
     "name": "stdout",
     "output_type": "stream",
     "text": [
      "Accuracy : 0.9901345291479821\n",
      "\n",
      "classification_report :\n",
      "               precision    recall  f1-score   support\n",
      "\n",
      "           0       0.99      0.99      0.99       965\n",
      "           1       0.97      0.96      0.96       150\n",
      "\n",
      "    accuracy                           0.99      1115\n",
      "   macro avg       0.98      0.98      0.98      1115\n",
      "weighted avg       0.99      0.99      0.99      1115\n",
      "\n",
      "\n",
      "confusion_matrix :\n",
      " [[960   5]\n",
      " [  6 144]]\n"
     ]
    }
   ],
   "source": [
    "mnb_clf = MultinomialNB()\n",
    "mnb_clf.fit(train_vectors, y_train)\n",
    "y_pred = mnb_clf.predict(test_vectors)\n",
    "print_scores(y_test, y_pred)"
   ]
  },
  {
   "cell_type": "code",
   "execution_count": 416,
   "metadata": {
    "collapsed": true
   },
   "outputs": [
    {
     "name": "stdout",
     "output_type": "stream",
     "text": [
      "#############################\n",
      "Accuracy : 0.9766690595836325\n",
      "\n",
      "classification_report :\n",
      "               precision    recall  f1-score   support\n",
      "\n",
      "           0       0.98      1.00      0.99      2413\n",
      "           1       0.98      0.84      0.91       373\n",
      "\n",
      "    accuracy                           0.98      2786\n",
      "   macro avg       0.98      0.92      0.95      2786\n",
      "weighted avg       0.98      0.98      0.98      2786\n",
      "\n",
      "\n",
      "confusion_matrix :\n",
      " [[2406    7]\n",
      " [  58  315]]\n",
      "#############################\n",
      "Accuracy : 0.9763101220387652\n",
      "\n",
      "classification_report :\n",
      "               precision    recall  f1-score   support\n",
      "\n",
      "           0       0.98      1.00      0.99      2413\n",
      "           1       0.98      0.84      0.90       373\n",
      "\n",
      "    accuracy                           0.98      2786\n",
      "   macro avg       0.98      0.92      0.95      2786\n",
      "weighted avg       0.98      0.98      0.98      2786\n",
      "\n",
      "\n",
      "confusion_matrix :\n",
      " [[2407    6]\n",
      " [  60  313]]\n",
      "#############################\n",
      "Accuracy : 0.9770279971284996\n",
      "\n",
      "classification_report :\n",
      "               precision    recall  f1-score   support\n",
      "\n",
      "           0       0.97      1.00      0.99      2412\n",
      "           1       0.99      0.83      0.91       374\n",
      "\n",
      "    accuracy                           0.98      2786\n",
      "   macro avg       0.98      0.92      0.95      2786\n",
      "weighted avg       0.98      0.98      0.98      2786\n",
      "\n",
      "\n",
      "confusion_matrix :\n",
      " [[2410    2]\n",
      " [  62  312]]\n",
      "#############################\n",
      "Accuracy : 0.9737975592246949\n",
      "\n",
      "classification_report :\n",
      "               precision    recall  f1-score   support\n",
      "\n",
      "           0       0.97      1.00      0.99      2413\n",
      "           1       0.98      0.82      0.89       373\n",
      "\n",
      "    accuracy                           0.97      2786\n",
      "   macro avg       0.98      0.91      0.94      2786\n",
      "weighted avg       0.97      0.97      0.97      2786\n",
      "\n",
      "\n",
      "confusion_matrix :\n",
      " [[2408    5]\n",
      " [  68  305]]\n",
      "#############################\n",
      "Accuracy : 0.9745154343144293\n",
      "\n",
      "classification_report :\n",
      "               precision    recall  f1-score   support\n",
      "\n",
      "           0       0.97      1.00      0.99      2413\n",
      "           1       0.98      0.83      0.90       373\n",
      "\n",
      "    accuracy                           0.97      2786\n",
      "   macro avg       0.98      0.91      0.94      2786\n",
      "weighted avg       0.97      0.97      0.97      2786\n",
      "\n",
      "\n",
      "confusion_matrix :\n",
      " [[2407    6]\n",
      " [  65  308]]\n"
     ]
    }
   ],
   "source": [
    "from sklearn.model_selection import StratifiedShuffleSplit\n",
    "splits = StratifiedShuffleSplit(n_splits=5, test_size=0.5, random_state=0)\n",
    "\n",
    "for train_index, test_index in splits.split(X, y):\n",
    "    X_train, X_test = X[train_index], X[test_index]\n",
    "    y_train, y_test = y[train_index], y[test_index]\n",
    "    \n",
    "    tfv = TfidfVectorizer()\n",
    "    train_vectors = tfv.fit_transform(X_train)\n",
    "    test_vectors = tfv.transform(X_test)\n",
    "    \n",
    "    svc = SVC()\n",
    "    svc.fit(train_vectors, y_train)\n",
    "    y_pred = svc.predict(test_vectors)\n",
    "    print(\"#############################\")\n",
    "    print_scores(y_test, y_pred)\n",
    "    "
   ]
  },
  {
   "cell_type": "code",
   "execution_count": 417,
   "metadata": {
    "collapsed": true
   },
   "outputs": [
    {
     "name": "stdout",
     "output_type": "stream",
     "text": [
      "#############################\n",
      "Accuracy : 0.9802584350323044\n",
      "\n",
      "classification_report :\n",
      "               precision    recall  f1-score   support\n",
      "\n",
      "           0       0.98      0.99      0.99      2413\n",
      "           1       0.95      0.90      0.92       373\n",
      "\n",
      "    accuracy                           0.98      2786\n",
      "   macro avg       0.97      0.95      0.96      2786\n",
      "weighted avg       0.98      0.98      0.98      2786\n",
      "\n",
      "\n",
      "confusion_matrix :\n",
      " [[2395   18]\n",
      " [  37  336]]\n",
      "#############################\n",
      "Accuracy : 0.9827709978463748\n",
      "\n",
      "classification_report :\n",
      "               precision    recall  f1-score   support\n",
      "\n",
      "           0       0.99      0.99      0.99      2413\n",
      "           1       0.96      0.91      0.93       373\n",
      "\n",
      "    accuracy                           0.98      2786\n",
      "   macro avg       0.97      0.95      0.96      2786\n",
      "weighted avg       0.98      0.98      0.98      2786\n",
      "\n",
      "\n",
      "confusion_matrix :\n",
      " [[2399   14]\n",
      " [  34  339]]\n",
      "#############################\n",
      "Accuracy : 0.9806173725771715\n",
      "\n",
      "classification_report :\n",
      "               precision    recall  f1-score   support\n",
      "\n",
      "           0       0.98      1.00      0.99      2412\n",
      "           1       0.97      0.89      0.92       374\n",
      "\n",
      "    accuracy                           0.98      2786\n",
      "   macro avg       0.97      0.94      0.96      2786\n",
      "weighted avg       0.98      0.98      0.98      2786\n",
      "\n",
      "\n",
      "confusion_matrix :\n",
      " [[2400   12]\n",
      " [  42  332]]\n",
      "#############################\n",
      "Accuracy : 0.9816941852117731\n",
      "\n",
      "classification_report :\n",
      "               precision    recall  f1-score   support\n",
      "\n",
      "           0       0.98      1.00      0.99      2413\n",
      "           1       0.97      0.89      0.93       373\n",
      "\n",
      "    accuracy                           0.98      2786\n",
      "   macro avg       0.98      0.94      0.96      2786\n",
      "weighted avg       0.98      0.98      0.98      2786\n",
      "\n",
      "\n",
      "confusion_matrix :\n",
      " [[2403   10]\n",
      " [  41  332]]\n",
      "#############################\n",
      "Accuracy : 0.9788226848528356\n",
      "\n",
      "classification_report :\n",
      "               precision    recall  f1-score   support\n",
      "\n",
      "           0       0.98      0.99      0.99      2413\n",
      "           1       0.95      0.89      0.92       373\n",
      "\n",
      "    accuracy                           0.98      2786\n",
      "   macro avg       0.96      0.94      0.95      2786\n",
      "weighted avg       0.98      0.98      0.98      2786\n",
      "\n",
      "\n",
      "confusion_matrix :\n",
      " [[2394   19]\n",
      " [  40  333]]\n"
     ]
    }
   ],
   "source": [
    "splits = StratifiedShuffleSplit(n_splits=5, test_size=0.5, random_state=0)\n",
    "\n",
    "for train_index, test_index in splits.split(X, y):\n",
    "    X_train, X_test = X[train_index], X[test_index]\n",
    "    y_train, y_test = y[train_index], y[test_index]\n",
    "    \n",
    "    cv = CountVectorizer(decode_error='ignore', stop_words='english', ngram_range=(1,2))\n",
    "    train_vectors = cv.fit_transform(X_train)\n",
    "    test_vectors = cv.transform(X_test)\n",
    "    \n",
    "    mnb_clf = MultinomialNB()\n",
    "    mnb_clf.fit(train_vectors, y_train)\n",
    "    y_pred = mnb_clf.predict(test_vectors)\n",
    "    print(\"#############################\")\n",
    "    print_scores(y_test, y_pred)"
   ]
  },
  {
   "cell_type": "code",
   "execution_count": null,
   "metadata": {},
   "outputs": [],
   "source": []
  }
 ],
 "metadata": {
  "kernelspec": {
   "display_name": "Python 3",
   "language": "python",
   "name": "python3"
  },
  "language_info": {
   "codemirror_mode": {
    "name": "ipython",
    "version": 3
   },
   "file_extension": ".py",
   "mimetype": "text/x-python",
   "name": "python",
   "nbconvert_exporter": "python",
   "pygments_lexer": "ipython3",
   "version": "3.7.4"
  }
 },
 "nbformat": 4,
 "nbformat_minor": 2
}
